{
 "cells": [
  {
   "cell_type": "code",
   "execution_count": 1,
   "id": "initial_id",
   "metadata": {
    "collapsed": true,
    "ExecuteTime": {
     "end_time": "2025-03-14T13:11:36.125649600Z",
     "start_time": "2025-03-14T13:11:35.134991200Z"
    }
   },
   "outputs": [],
   "source": [
    "\n",
    "import textdistance\n",
    "import time\n",
    "import json\n",
    "from azure.cognitiveservices.vision.computervision import ComputerVisionClient\n",
    "from azure.cognitiveservices.vision.computervision.models import OperationStatusCodes\n",
    "from msrest.authentication import CognitiveServicesCredentials"
   ]
  },
  {
   "cell_type": "code",
   "execution_count": 2,
   "outputs": [
    {
     "data": {
      "text/plain": "'\\nEND - Authenticate\\n'"
     },
     "execution_count": 2,
     "metadata": {},
     "output_type": "execute_result"
    }
   ],
   "source": [
    "'''\n",
    "Authenticate\n",
    "Authenticates your credentials and creates a client.\n",
    "'''\n",
    "\n",
    "\n",
    "def load_config(config_path='../config.json'):\n",
    "    with open(config_path, 'r') as config_file:\n",
    "        config = json.load(config_file)\n",
    "    return config\n",
    "\n",
    "\n",
    "config = load_config()\n",
    "subscription_key = config['subscription_key']\n",
    "endpoint = config['endpoint']\n",
    "#\n",
    "computervision_client = ComputerVisionClient(endpoint, CognitiveServicesCredentials(subscription_key))\n",
    "'''\n",
    "END - Authenticate\n",
    "'''"
   ],
   "metadata": {
    "collapsed": false,
    "ExecuteTime": {
     "end_time": "2025-03-14T13:11:47.487045900Z",
     "start_time": "2025-03-14T13:11:47.425515600Z"
    }
   },
   "id": "c0d1ec75a65c6962"
  },
  {
   "cell_type": "code",
   "execution_count": 19,
   "outputs": [
    {
     "name": "stdout",
     "output_type": "stream",
     "text": [
      "Lucces in resolvarea\n",
      "TEMELOR la\n",
      "LABORA toarele de\n",
      "Inteligenta Artificialà!\n"
     ]
    }
   ],
   "source": [
    "# img = open(\"test1.png\", \"rb\")\n",
    "img = open(\"images/test2.jpeg\", \"rb\")\n",
    "read_response = computervision_client.read_in_stream(\n",
    "    image=img,\n",
    "    mode=\"Printed\",\n",
    "    raw=True\n",
    ")\n",
    "# print(read_response.as_dict())\n",
    "\n",
    "operation_id = read_response.headers['Operation-Location'].split('/')[-1]\n",
    "while True:\n",
    "    read_result = computervision_client.get_read_result(operation_id)\n",
    "    if read_result.status not in ['notStarted', 'running']:\n",
    "        break\n",
    "    time.sleep(1)\n",
    "\n",
    "# Print the detected text, line by line\n",
    "result = []\n",
    "if read_result.status == OperationStatusCodes.succeeded:\n",
    "    for text_result in read_result.analyze_result.read_results:\n",
    "        for line in text_result.lines:\n",
    "            print(line.text)\n",
    "            result.append(line.text)\n",
    "\n",
    "print()"
   ],
   "metadata": {
    "collapsed": false,
    "ExecuteTime": {
     "end_time": "2025-03-14T13:59:22.121155800Z",
     "start_time": "2025-03-14T13:59:19.984500400Z"
    }
   },
   "id": "5d45ebc7a4126058"
  },
  {
   "cell_type": "code",
   "execution_count": 25,
   "outputs": [
    {
     "name": "stdout",
     "output_type": "stream",
     "text": [
      "0\n"
     ]
    }
   ],
   "source": [
    "\n",
    "# groundTruth = [\"Google Cloud\", \"Platform\"]\n",
    "groundTruth = [\"Succes in rezolvarea\", \"tEMELOR la\", \"LABORA toarle de\", \"Inteligenta Artificiala!\"]\n",
    "\n",
    "\n",
    "noOfCorrectLines = sum(i == j for i, j in zip(result, groundTruth))\n",
    "print(noOfCorrectLines)"
   ],
   "metadata": {
    "collapsed": false,
    "ExecuteTime": {
     "end_time": "2025-03-14T14:07:55.504121200Z",
     "start_time": "2025-03-14T14:07:55.491897400Z"
    }
   },
   "id": "72996fb2b79506a7"
  },
  {
   "cell_type": "code",
   "execution_count": 38,
   "outputs": [
    {
     "name": "stdout",
     "output_type": "stream",
     "text": [
      "Lucces in resolvarea ==> Succes in rezolvarea\n",
      "\\- Levenshtein Distance: 2\n",
      "\\- Jaccard Similarity: 0.818\n",
      "\\- Cosine Similarity: 0.9\n",
      "\n",
      "TEMELOR la ==> tEMELOR la\n",
      "\\- Levenshtein Distance: 1\n",
      "\\- Jaccard Similarity: 0.818\n",
      "\\- Cosine Similarity: 0.9\n",
      "\n",
      "LABORA toarele de ==> LABORAtoarele de\n",
      "\\- Levenshtein Distance: 1\n",
      "\\- Jaccard Similarity: 0.941\n",
      "\\- Cosine Similarity: 0.97\n",
      "\n",
      "Inteligenta Artificialà! ==> Inteligenta Artificiala!\n",
      "\\- Levenshtein Distance: 1\n",
      "\\- Jaccard Similarity: 0.92\n",
      "\\- Cosine Similarity: 0.958\n"
     ]
    }
   ],
   "source": [
    "\n",
    "\n",
    "recognized_lines = [\"Lucces in resolvarea\", \"TEMELOR la\", \"LABORA toarele de\", \"Inteligenta Artificialà!\"]\n",
    "ground_truth = [\"Succes in rezolvarea\", \"tEMELOR la\", \"LABORAtoarele de\", \"Inteligenta Artificiala!\"]\n",
    "\n",
    "for r_line, g_line in zip(recognized_lines, ground_truth):\n",
    "    lev_dist = textdistance.levenshtein.distance(r_line, g_line)\n",
    "    jac_sim = textdistance.jaccard.similarity(r_line, g_line)\n",
    "    cos_sim = textdistance.cosine.similarity(r_line, g_line)\n",
    "\n",
    "    print(r_line, \"==>\", g_line)\n",
    "    print(\"\\\\- Levenshtein Distance:\", lev_dist)\n",
    "    print(\"\\\\- Jaccard Similarity:\", round(jac_sim, 3))\n",
    "    print(\"\\\\- Cosine Similarity:\", round(cos_sim, 3))\n",
    "    print()"
   ],
   "metadata": {
    "collapsed": false,
    "ExecuteTime": {
     "end_time": "2025-03-14T17:29:19.898866Z",
     "start_time": "2025-03-14T17:29:19.888469800Z"
    }
   },
   "id": "2fad87c86a3caecf"
  },
  {
   "cell_type": "code",
   "execution_count": null,
   "outputs": [],
   "source": [],
   "metadata": {
    "collapsed": false
   },
   "id": "264df1a5b8482374"
  }
 ],
 "metadata": {
  "kernelspec": {
   "display_name": "Python 3",
   "language": "python",
   "name": "python3"
  },
  "language_info": {
   "codemirror_mode": {
    "name": "ipython",
    "version": 2
   },
   "file_extension": ".py",
   "mimetype": "text/x-python",
   "name": "python",
   "nbconvert_exporter": "python",
   "pygments_lexer": "ipython2",
   "version": "2.7.6"
  }
 },
 "nbformat": 4,
 "nbformat_minor": 5
}
