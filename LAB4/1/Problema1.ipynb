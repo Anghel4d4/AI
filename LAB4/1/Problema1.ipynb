{
 "cells": [
  {
   "cell_type": "code",
   "execution_count": 4,
   "outputs": [],
   "source": [
    "import sns\n",
    "from azure.cognitiveservices.vision.computervision import ComputerVisionClient\n",
    "from azure.cognitiveservices.vision.computervision.models import OperationStatusCodes\n",
    "from azure.cognitiveservices.vision.computervision.models import VisualFeatureTypes\n",
    "from azure.ai.vision.imageanalysis.models import VisualFeatures\n",
    "\n",
    "from msrest.authentication import CognitiveServicesCredentials\n",
    "from array import array\n",
    "import os\n",
    "from PIL import Image\n",
    "import sys\n",
    "import time\n",
    "import matplotlib.pyplot as plt\n",
    "from skimage import io\n",
    "import numpy as np\n",
    "import json"
   ],
   "metadata": {
    "collapsed": false,
    "ExecuteTime": {
     "end_time": "2025-03-26T16:36:13.260295800Z",
     "start_time": "2025-03-26T16:36:10.912976400Z"
    }
   },
   "id": "734bb1ace3ac14"
  },
  {
   "cell_type": "code",
   "execution_count": 5,
   "outputs": [
    {
     "data": {
      "text/plain": "'\\nEND - Authenticate\\n'"
     },
     "execution_count": 5,
     "metadata": {},
     "output_type": "execute_result"
    }
   ],
   "source": [
    "'''\n",
    "Authenticate\n",
    "Authenticates your credentials and creates a client.\n",
    "'''\n",
    "\n",
    "\n",
    "def load_config(config_path='../config.json'):\n",
    "    with open(config_path, 'r') as config_file:\n",
    "        config = json.load(config_file)\n",
    "    return config\n",
    "\n",
    "\n",
    "config = load_config()\n",
    "subscription_key = config['subscription_key']\n",
    "endpoint = config['endpoint']\n",
    "#\n",
    "computervision_client = ComputerVisionClient(endpoint, CognitiveServicesCredentials(subscription_key))\n",
    "'''\n",
    "END - Authenticate\n",
    "'''"
   ],
   "metadata": {
    "collapsed": false,
    "ExecuteTime": {
     "end_time": "2025-03-26T16:36:15.165567500Z",
     "start_time": "2025-03-26T16:36:15.137779Z"
    }
   },
   "id": "d56e2a6fb01233a"
  },
  {
   "cell_type": "code",
   "execution_count": 13,
   "outputs": [
    {
     "name": "stdout",
     "output_type": "stream",
     "text": [
      "Obiecte detectate în images\\bike02.jpg: ['Wheel', 'bicycle']\n",
      "Obiecte detectate în images\\bike03.jpg: ['car', 'person', 'person', 'bicycle']\n",
      "Obiecte detectate în images\\bike04.jpg: ['bicycle']\n",
      "Obiecte detectate în images\\bike05.jpg: ['bicycle']\n",
      "Obiecte detectate în images\\bike06.jpg: ['car', 'person', 'person', 'cycle']\n",
      "Obiecte detectate în images\\bike07.jpg: ['person', 'bicycle']\n",
      "Obiecte detectate în images\\bike08.jpg: ['person']\n",
      "Obiecte detectate în images\\bike09.jpg: ['bicycle']\n",
      "Obiecte detectate în images\\bike1.jpg: ['bicycle']\n",
      "Obiecte detectate în images\\bike10.jpg: ['Gondola', 'bicycle']\n",
      "Obiecte detectate în images\\traffic01.jpg: ['person', 'car']\n",
      "Obiecte detectate în images\\traffic02.jpg: []\n",
      "Obiecte detectate în images\\traffic03.jpg: []\n",
      "Obiecte detectate în images\\traffic04.jpg: []\n",
      "Obiecte detectate în images\\traffic05.jpg: []\n",
      "Obiecte detectate în images\\traffic06.jpg: ['car']\n",
      "Obiecte detectate în images\\traffic07.jpg: ['stop sign']\n",
      "Obiecte detectate în images\\traffic08.jpg: ['car']\n",
      "Obiecte detectate în images\\traffic09.jpg: []\n",
      "Obiecte detectate în images\\traffic10.jpg: ['car']\n"
     ]
    },
    {
     "data": {
      "text/plain": "<Figure size 600x400 with 2 Axes>",
      "image/png": "[encoded data removed]"
     },
     "metadata": {},
     "output_type": "display_data"
    },
    {
     "name": "stdout",
     "output_type": "stream",
     "text": [
      "Acuratețe: 0.90\n",
      "Precizie: 1.00\n",
      "Recall: 0.80\n",
      "Scor F1: 0.89\n"
     ]
    }
   ],
   "source": [
    "from sklearn.metrics import confusion_matrix, accuracy_score, precision_score, recall_score\n",
    "\n",
    "import seaborn as sns\n",
    "\n",
    "\n",
    "folder_path = 'images'  \n",
    "\n",
    "files = [f for f in os.listdir(folder_path) if f.endswith(('.png', '.jpg', '.jpeg'))]\n",
    "\n",
    "real_labels = []\n",
    "for file in files:\n",
    "    if 'bike' in file.lower():\n",
    "        real_labels.append(1)  \n",
    "    elif 'traffic' in file.lower():\n",
    "        real_labels.append(0)  \n",
    "\n",
    "predicted_labels = []\n",
    "\n",
    "def detect_bicycle_in_image(image_path):\n",
    "    with open(image_path, \"rb\") as image_stream:\n",
    "        \n",
    "        objects = computervision_client.detect_objects_in_stream(image_stream)\n",
    "    \n",
    "   \n",
    "    detected_objects = [obj.object_property for obj in objects.objects]\n",
    "    print(f\"Obiecte detectate in {image_path}: {detected_objects}\")\n",
    "    \n",
    "    \n",
    "    if 'bicycle' in detected_objects:\n",
    "        return 1  \n",
    "    else:\n",
    "        return 0  \n",
    "\n",
    "for file in files:\n",
    "    image_path = os.path.join(folder_path, file)\n",
    "    prediction = detect_bicycle_in_image(image_path)\n",
    "    predicted_labels.append(prediction)\n",
    "\n",
    "cm = confusion_matrix(real_labels, predicted_labels)\n",
    "\n",
    "accuracy = accuracy_score(real_labels, predicted_labels)\n",
    "precision = precision_score(real_labels, predicted_labels)\n",
    "recall = recall_score(real_labels, predicted_labels)\n",
    "plt.figure(figsize=(6, 4))\n",
    "sns.heatmap(cm, annot=True, fmt='d', cmap='Blues', xticklabels=['Fara Biciclete', 'Cu Biciclete'], yticklabels=['Fara Biciclete', 'Cu Biciclete'])\n",
    "plt.xlabel('Predictie')\n",
    "plt.ylabel('Realitate')\n",
    "plt.title('Matrice de confuzie')\n",
    "plt.show()\n",
    "\n",
    "print(f'Acuratete: {accuracy:.2f}')\n",
    "print(f'Precizie: {precision:.2f}')\n",
    "print(f'Recall: {recall:.2f}')"
   ],
   "metadata": {
    "collapsed": false,
    "ExecuteTime": {
     "end_time": "2025-03-26T17:20:12.825824800Z",
     "start_time": "2025-03-26T17:20:02.390382700Z"
    }
   },
   "id": "initial_id"
  },
  {
   "cell_type": "markdown",
   "source": [
    "ML algortim test"
   ],
   "metadata": {
    "collapsed": false
   },
   "id": "55d1324b9c022890"
  },
  {
   "cell_type": "code",
   "execution_count": 8,
   "outputs": [
    {
     "name": "stderr",
     "output_type": "stream",
     "text": [
      "C:\\Users\\LENOVO\\PycharmProjects\\AI\\LAB4\\venv\\Lib\\site-packages\\PIL\\Image.py:1045: UserWarning: Palette images with Transparency expressed in bytes should be converted to RGBA images\n",
      "  warnings.warn(\n",
      "C:\\Users\\LENOVO\\PycharmProjects\\AI\\LAB4\\venv\\Lib\\site-packages\\PIL\\Image.py:1045: UserWarning: Palette images with Transparency expressed in bytes should be converted to RGBA images\n",
      "  warnings.warn(\n",
      "C:\\Users\\LENOVO\\PycharmProjects\\AI\\LAB4\\venv\\Lib\\site-packages\\PIL\\Image.py:1045: UserWarning: Palette images with Transparency expressed in bytes should be converted to RGBA images\n",
      "  warnings.warn(\n"
     ]
    },
    {
     "data": {
      "text/plain": "<Figure size 600x400 with 2 Axes>",
      "image/png": "[encoded data removed]"
     },
     "metadata": {},
     "output_type": "display_data"
    },
    {
     "name": "stdout",
     "output_type": "stream",
     "text": [
      "Acuratețe: 0.96\n",
      "Precizie: 0.95\n",
      "Recall: 0.97\n",
      "Scor F1: 0.96\n"
     ]
    }
   ],
   "source": [
    "import os\n",
    "import numpy as np\n",
    "from sklearn.model_selection import train_test_split\n",
    "from sklearn.linear_model import LogisticRegression\n",
    "from sklearn.metrics import confusion_matrix, accuracy_score, precision_score, recall_score\n",
    "import matplotlib.pyplot as plt\n",
    "import seaborn as sns\n",
    "\n",
    "\n",
    "folder_path = 'images/test'  \n",
    "\n",
    "def extract_hog_features(image_path):\n",
    "    image = io.imread(image_path)\n",
    "    if image.shape[-1] == 4:\n",
    "        image = color.rgba2rgb(image)  \n",
    "    image = color.rgb2gray(image)\n",
    "    image = transform.resize(image, (128, 128))\n",
    "    hog_features = hog(image, pixels_per_cell=(16, 16), cells_per_block=(2, 2), visualize=False)\n",
    "    return hog_features\n",
    "\n",
    "files = [f for f in os.listdir(folder_path) if f.endswith(('.png', '.jpg', '.jpeg'))]\n",
    "real_labels = [1 if 'bike' in f.lower() else 0 for f in files]  \n",
    "features = []\n",
    "\n",
    "\n",
    "for file in files:\n",
    "    image_path = os.path.join(folder_path, file)\n",
    "    hog_features = extract_hog_features(image_path)\n",
    "    features.append(hog_features)\n",
    "\n",
    "X = np.array(features)\n",
    "y = np.array(real_labels)\n",
    "\n",
    "X_train, X_test, y_train, y_test = train_test_split(X, y, test_size=0.3, random_state=42)\n",
    "\n",
    "\n",
    "model = LogisticRegression(max_iter=1000)\n",
    "model.fit(X_train, y_train)\n",
    "\n",
    "predicted_labels = model.predict(X_test)\n",
    "\n",
    "\n",
    "cm = confusion_matrix(y_test, predicted_labels)\n",
    "accuracy = accuracy_score(y_test, predicted_labels)\n",
    "precision = precision_score(y_test, predicted_labels)\n",
    "recall = recall_score(y_test, predicted_labels)\n",
    "\n",
    "\n",
    "plt.figure(figsize=(6, 4))\n",
    "sns.heatmap(cm, annot=True, fmt='d', cmap='Blues', xticklabels=['Fara Biciclete', 'Cu Biciclete'], yticklabels=['Fara Biciclete', 'Cu Biciclete'])\n",
    "plt.xlabel('Predictie')\n",
    "plt.ylabel('Realitate')\n",
    "plt.title('Matrice de confuzie')\n",
    "plt.show()\n",
    "\n",
    "\n",
    "print(f'Acuratete: {accuracy:.2f}')\n",
    "print(f'Precizie: {precision:.2f}')\n",
    "print(f'Recall: {recall:.2f}')"
   ],
   "metadata": {
    "collapsed": false,
    "ExecuteTime": {
     "end_time": "2025-03-26T16:48:08.512578100Z",
     "start_time": "2025-03-26T16:44:56.974109400Z"
    }
   },
   "id": "41eb7a7d118cb246"
  },
  {
   "cell_type": "markdown",
   "source": [
    "ML algortim pe imagini lab"
   ],
   "metadata": {
    "collapsed": false
   },
   "id": "ff737611d38f69ca"
  },
  {
   "cell_type": "code",
   "execution_count": 12,
   "outputs": [
    {
     "data": {
      "text/plain": "<Figure size 600x400 with 2 Axes>",
      "image/png": "[encoded data removed]"
     },
     "metadata": {},
     "output_type": "display_data"
    },
    {
     "name": "stdout",
     "output_type": "stream",
     "text": [
      "Acuratețe: 1.00\n",
      "Precizie: 1.00\n",
      "Recall: 1.00\n",
      "Scor F1: 1.00\n"
     ]
    }
   ],
   "source": [
    "import os\n",
    "import numpy as np\n",
    "from skimage import io, color, transform\n",
    "from skimage.feature import hog\n",
    "from sklearn.model_selection import train_test_split\n",
    "from sklearn.linear_model import LogisticRegression\n",
    "from sklearn.metrics import confusion_matrix, accuracy_score, precision_score, recall_score\n",
    "import matplotlib.pyplot as plt\n",
    "import seaborn as sns\n",
    "\n",
    "\n",
    "folder_path = 'images'  \n",
    "\n",
    "def extract_hog_features(image_path):\n",
    "    image = io.imread(image_path)\n",
    "    if image.shape[-1] == 4:\n",
    "        image = color.rgba2rgb(image)  \n",
    "    image = color.rgb2gray(image)\n",
    "    image = transform.resize(image, (128, 128))\n",
    "    hog_features = hog(image, pixels_per_cell=(16, 16), cells_per_block=(2, 2), visualize=False)\n",
    "    return hog_features\n",
    "\n",
    "files = [f for f in os.listdir(folder_path) if f.endswith(('.png', '.jpg', '.jpeg'))]\n",
    "real_labels = [1 if 'bike' in f.lower() else 0 for f in files]  \n",
    "features = []\n",
    "\n",
    "for file in files:\n",
    "    image_path = os.path.join(folder_path, file)\n",
    "    hog_features = extract_hog_features(image_path)\n",
    "    features.append(hog_features)\n",
    "\n",
    "X = np.array(features)\n",
    "y = np.array(real_labels)\n",
    "\n",
    "X_train, X_test, y_train, y_test = train_test_split(X, y, test_size=0.9, random_state=42)\n",
    "\n",
    "model = LogisticRegression(max_iter=1000)\n",
    "model.fit(X_train, y_train)\n",
    "\n",
    "predicted_labels = model.predict(X_test)\n",
    "\n",
    "\n",
    "cm = confusion_matrix(y_test, predicted_labels)\n",
    "accuracy = accuracy_score(y_test, predicted_labels)\n",
    "precision = precision_score(y_test, predicted_labels)\n",
    "recall = recall_score(y_test, predicted_labels)\n",
    "f1 = 2 * (precision * recall) / (precision + recall) if (precision + recall) > 0 else 0\n",
    "\n",
    "\n",
    "plt.figure(figsize=(6, 4))\n",
    "sns.heatmap(cm, annot=True, fmt='d', cmap='Blues', xticklabels=['Fara Biciclete', 'Cu Biciclete'], yticklabels=['Fara Biciclete', 'Cu Biciclete'])\n",
    "plt.xlabel('Predictie')\n",
    "plt.ylabel('Realitate')\n",
    "plt.title('Matrice de confuzie')\n",
    "plt.show()\n",
    "\n",
    "\n",
    "print(f'Acuratete: {accuracy:.2f}')\n",
    "print(f'Precizie: {precision:.2f}')\n",
    "print(f'Recall: {recall:.2f}')\n",
    "print(f'Scor F1: {f1:.2f}')"
   ],
   "metadata": {
    "collapsed": false,
    "ExecuteTime": {
     "end_time": "2025-03-26T17:11:55.275843600Z",
     "start_time": "2025-03-26T17:11:53.807139400Z"
    }
   },
   "id": "9fe7c8788a082b02"
  },
  {
   "cell_type": "code",
   "execution_count": null,
   "outputs": [],
   "source": [],
   "metadata": {
    "collapsed": false
   },
   "id": "e75d6a3386b34244"
  }
 ],
 "metadata": {
  "kernelspec": {
   "display_name": "Python 3",
   "language": "python",
   "name": "python3"
  },
  "language_info": {
   "codemirror_mode": {
    "name": "ipython",
    "version": 2
   },
   "file_extension": ".py",
   "mimetype": "text/x-python",
   "name": "python",
   "nbconvert_exporter": "python",
   "pygments_lexer": "ipython2",
   "version": "2.7.6"
  }
 },
 "nbformat": 4,
 "nbformat_minor": 5
}
