{
 "cells": [
  {
   "cell_type": "code",
   "execution_count": 7,
   "id": "initial_id",
   "metadata": {
    "collapsed": true,
    "ExecuteTime": {
     "end_time": "2025-04-10T07:38:07.995293800Z",
     "start_time": "2025-04-10T07:38:04.923968500Z"
    }
   },
   "outputs": [
    {
     "name": "stdout",
     "output_type": "stream",
     "text": [
      "Acuratețea pe setul de testare: 0.9035087719298246\n",
      "\n",
      "Raport de clasificare:\n",
      "              precision    recall  f1-score   support\n",
      "\n",
      "      Benign       0.91      0.94      0.92        71\n",
      "      Malign       0.90      0.84      0.87        43\n",
      "\n",
      "    accuracy                           0.90       114\n",
      "   macro avg       0.90      0.89      0.90       114\n",
      "weighted avg       0.90      0.90      0.90       114\n",
      "\n",
      "\n",
      "Predicție pentru leziunea cu raza = 18 și textura = 10:\n",
      "Clasa prezisă: Malign\n",
      "Probabilități (Benign, Malign): [0.31547388 0.68452612]\n"
     ]
    },
    {
     "name": "stderr",
     "output_type": "stream",
     "text": [
      "C:\\Users\\LENOVO\\PycharmProjects\\AI\\LAB6\\venv\\Lib\\site-packages\\sklearn\\utils\\validation.py:2739: UserWarning: X does not have valid feature names, but StandardScaler was fitted with feature names\n",
      "  warnings.warn(\n"
     ]
    }
   ],
   "source": [
    "import pandas as pd\n",
    "import numpy as np\n",
    "from ucimlrepo import fetch_ucirepo\n",
    "from sklearn.model_selection import train_test_split\n",
    "from sklearn.preprocessing import StandardScaler\n",
    "from sklearn.linear_model import LogisticRegression\n",
    "from sklearn.metrics import accuracy_score, classification_report\n",
    "\n",
    "# Incarcam dataset-ul\n",
    "breast_cancer_wisconsin_diagnostic = fetch_ucirepo(id=17)\n",
    "X = breast_cancer_wisconsin_diagnostic.data.features\n",
    "y = breast_cancer_wisconsin_diagnostic.data.targets\n",
    "\n",
    "# Selectam doar caracteristicile relevante: radius1 si texture1\n",
    "X_selected = X[['radius1', 'texture1']]\n",
    "\n",
    "# Convertim etichetele: M (malign) = 1, B (benign) = 0\n",
    "y = y['Diagnosis'].map({'M': 1, 'B': 0})\n",
    "\n",
    "# Impartim datele in set de antrenare (80%) si testare (20%)\n",
    "X_train, X_test, y_train, y_test = train_test_split(X_selected, y, test_size=0.2, random_state=42)\n",
    "\n",
    "# Normalizăm datele\n",
    "scaler = StandardScaler()\n",
    "X_train_scaled = scaler.fit_transform(X_train)\n",
    "X_test_scaled = scaler.transform(X_test)\n",
    "\n",
    "# Antrenam modelul de regresie logistică\n",
    "model = LogisticRegression(random_state=42)\n",
    "model.fit(X_train_scaled, y_train)\n",
    "\n",
    "# Evalua m modelul pe setul de testare\n",
    "y_pred = model.predict(X_test_scaled)\n",
    "accuracy = accuracy_score(y_test, y_pred)\n",
    "print(\"Acuratețea pe setul de testare:\", accuracy)\n",
    "print(\"\\nRaport de clasificare:\")\n",
    "print(classification_report(y_test, y_pred, target_names=['Benign', 'Malign']))\n",
    "\n",
    "# Facem predictia pentru leziunea data: raza = 18, textura = 10\n",
    "new_lesion = np.array([[18, 10]])\n",
    "new_lesion_scaled = scaler.transform(new_lesion)\n",
    "prediction = model.predict(new_lesion_scaled)\n",
    "prediction_proba = model.predict_proba(new_lesion_scaled)\n",
    "\n",
    "# Afișăm rezultatul predicției\n",
    "print(\"\\nPredictie pentru leziunea cu raza = 18 si textura = 10:\")\n",
    "print(\"Clasa prezisa:\", \"Malign\" if prediction[0] == 1 else \"Benign\")\n",
    "print(\"Probabilitati (Benign, Malign):\", prediction_proba[0])"
   ]
  },
  {
   "cell_type": "code",
   "execution_count": 3,
   "outputs": [
    {
     "name": "stdout",
     "output_type": "stream",
     "text": [
      "Index(['radius1', 'texture1', 'perimeter1', 'area1', 'smoothness1',\n",
      "       'compactness1', 'concavity1', 'concave_points1', 'symmetry1',\n",
      "       'fractal_dimension1', 'radius2', 'texture2', 'perimeter2', 'area2',\n",
      "       'smoothness2', 'compactness2', 'concavity2', 'concave_points2',\n",
      "       'symmetry2', 'fractal_dimension2', 'radius3', 'texture3', 'perimeter3',\n",
      "       'area3', 'smoothness3', 'compactness3', 'concavity3', 'concave_points3',\n",
      "       'symmetry3', 'fractal_dimension3'],\n",
      "      dtype='object')\n"
     ]
    }
   ],
   "source": [
    "print(X.columns)\n",
    "print(X.columns)\n"
   ],
   "metadata": {
    "collapsed": false,
    "ExecuteTime": {
     "end_time": "2025-04-10T06:25:08.336359700Z",
     "start_time": "2025-04-10T06:25:08.306165400Z"
    }
   },
   "id": "57730d8e21e4da7d"
  },
  {
   "cell_type": "code",
   "execution_count": 17,
   "outputs": [
    {
     "name": "stdout",
     "output_type": "stream",
     "text": [
      "Accuracy on test set (manual): 0.8245614035087719\n",
      "\n",
      "Classification report (manual):\n",
      "Class Benign:\n",
      "  Precision: 0.986\n",
      "  Recall: 0.784\n",
      "  F1-score: 0.873\n",
      "Class Malign:\n",
      "  Precision: 0.568\n",
      "  Recall: 0.962\n",
      "  F1-score: 0.714\n",
      "\n",
      "Prediction for lesion with radius = 18 and texture = 10 (manual):\n",
      "Predicted class: Malign\n",
      "Probabilities (Benign, Malign): [0.34349151 0.65650849]\n"
     ]
    }
   ],
   "source": [
    "import pandas as pd\n",
    "import numpy as np\n",
    "from ucimlrepo import fetch_ucirepo\n",
    "\n",
    "def sigmoid(z):\n",
    "    return 1 / (1 + np.exp(-z))\n",
    "\n",
    "def normalize_data(X):\n",
    "    mean = np.mean(X, axis=0)\n",
    "    std = np.std(X, axis=0)\n",
    "    X_normalized = (X - mean) / std\n",
    "    return X_normalized, mean, std\n",
    "\n",
    "def normalize_new_data(X, mean, std):\n",
    "    return (X - mean) / std\n",
    "\n",
    "class ManualLogisticRegression:\n",
    "    def __init__(self, learning_rate=0.01, epochs=1000):\n",
    "        self.learning_rate = learning_rate\n",
    "        self.epochs = epochs\n",
    "        self.weights = None\n",
    "        self.bias = None\n",
    "\n",
    "    def fit(self, X, y):\n",
    "        n_samples, n_features = X.shape\n",
    "        self.weights = np.zeros(n_features)\n",
    "        self.bias = 0\n",
    "\n",
    "        for epoch in range(self.epochs):\n",
    "            linear_model = np.dot(X, self.weights) + self.bias\n",
    "            y_predicted = sigmoid(linear_model)\n",
    "            dw = (1 / n_samples) * np.dot(X.T, (y_predicted - y))\n",
    "            db = (1 / n_samples) * np.sum(y_predicted - y)\n",
    "            self.weights -= self.learning_rate * dw\n",
    "            self.bias -= self.learning_rate * db\n",
    "\n",
    "    def predict_proba(self, X):\n",
    "        linear_model = np.dot(X, self.weights) + self.bias\n",
    "        y_predicted = sigmoid(linear_model)\n",
    "        return np.vstack((1 - y_predicted, y_predicted)).T\n",
    "\n",
    "    def predict(self, X):\n",
    "        probabilities = self.predict_proba(X)[:, 1]\n",
    "        return (probabilities >= 0.5).astype(int)\n",
    "\n",
    "breast_cancer_wisconsin_diagnostic = fetch_ucirepo(id=17)\n",
    "X = breast_cancer_wisconsin_diagnostic.data.features\n",
    "y = breast_cancer_wisconsin_diagnostic.data.targets\n",
    "\n",
    "X_selected = X[['radius1', 'texture1']].values\n",
    "\n",
    "y = y['Diagnosis'].map({'M': 1, 'B': 0}).values\n",
    "\n",
    "np.random.seed(42)\n",
    "indices = np.arange(len(X_selected))\n",
    "train_size = int(0.8 * len(X_selected))\n",
    "train_indices = indices[:train_size]\n",
    "test_indices = indices[train_size:]\n",
    "\n",
    "X_train = X_selected[train_indices]\n",
    "X_test = X_selected[test_indices]\n",
    "y_train = y[train_indices]\n",
    "y_test = y[test_indices]\n",
    "\n",
    "X_train_scaled, mean, std = normalize_data(X_train)\n",
    "X_test_scaled = normalize_new_data(X_test, mean, std)\n",
    "\n",
    "model = ManualLogisticRegression(learning_rate=0.01, epochs=10000)\n",
    "model.fit(X_train_scaled, y_train)\n",
    "\n",
    "y_pred = model.predict(X_test_scaled)\n",
    "accuracy = np.mean(y_pred == y_test)\n",
    "print(\"Accuracy on test set (manual):\", accuracy)\n",
    "\n",
    "def classification_metrics(y_true, y_pred):\n",
    "    TP = np.sum((y_true == 1) & (y_pred == 1))\n",
    "    TN = np.sum((y_true == 0) & (y_pred == 0))\n",
    "    FP = np.sum((y_true == 0) & (y_pred == 1))\n",
    "    FN = np.sum((y_true == 1) & (y_pred == 0))\n",
    "\n",
    "    precision = TP / (TP + FP) if (TP + FP) > 0 else 0\n",
    "    recall = TP / (TP + FN) if (TP + FN) > 0 else 0\n",
    "    f1 = 2 * (precision * recall) / (precision + recall) if (precision + recall) > 0 else 0\n",
    "    return precision, recall, f1\n",
    "\n",
    "precision_benign, recall_benign, f1_benign = classification_metrics(y_test == 0, y_pred == 0)\n",
    "precision_malign, recall_malign, f1_malign = classification_metrics(y_test == 1, y_pred == 1)\n",
    "\n",
    "print(\"\\nClassification report (manual):\")\n",
    "print(\"Class Benign:\")\n",
    "print(f\"  Precision: {precision_benign:.3f}\")\n",
    "print(f\"  Recall: {recall_benign:.3f}\")\n",
    "print(f\"  F1-score: {f1_benign:.3f}\")\n",
    "print(\"Class Malign:\")\n",
    "print(f\"  Precision: {precision_malign:.3f}\")\n",
    "print(f\"  Recall: {recall_malign:.3f}\")\n",
    "print(f\"  F1-score: {f1_malign:.3f}\")\n",
    "\n",
    "new_lesion = np.array([[18, 10]])\n",
    "new_lesion_scaled = normalize_new_data(new_lesion, mean, std)\n",
    "prediction = model.predict(new_lesion_scaled)\n",
    "prediction_proba = model.predict_proba(new_lesion_scaled)\n",
    "\n",
    "print(\"\\nPrediction for lesion with radius = 18 and texture = 10 (manual):\")\n",
    "print(\"Predicted class:\", \"Malign\" if prediction[0] == 1 else \"Benign\")\n",
    "print(\"Probabilities (Benign, Malign):\", prediction_proba[0])"
   ],
   "metadata": {
    "collapsed": false,
    "ExecuteTime": {
     "end_time": "2025-04-10T09:45:32.156459800Z",
     "start_time": "2025-04-10T09:45:21.827763900Z"
    }
   },
   "id": "f13d35ee9c79f023"
  },
  {
   "cell_type": "code",
   "execution_count": null,
   "outputs": [],
   "source": [],
   "metadata": {
    "collapsed": false
   },
   "id": "6acafca29759ef02"
  }
 ],
 "metadata": {
  "kernelspec": {
   "display_name": "Python 3",
   "language": "python",
   "name": "python3"
  },
  "language_info": {
   "codemirror_mode": {
    "name": "ipython",
    "version": 2
   },
   "file_extension": ".py",
   "mimetype": "text/x-python",
   "name": "python",
   "nbconvert_exporter": "python",
   "pygments_lexer": "ipython2",
   "version": "2.7.6"
  }
 },
 "nbformat": 4,
 "nbformat_minor": 5
}
